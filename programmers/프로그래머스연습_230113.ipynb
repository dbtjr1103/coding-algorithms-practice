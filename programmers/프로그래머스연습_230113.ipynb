{
  "nbformat": 4,
  "nbformat_minor": 0,
  "metadata": {
    "colab": {
      "provenance": [],
      "authorship_tag": "ABX9TyMucyUkJY8rUGTI5qnZAQdB",
      "include_colab_link": true
    },
    "kernelspec": {
      "name": "python3",
      "display_name": "Python 3"
    },
    "language_info": {
      "name": "python"
    }
  },
  "cells": [
    {
      "cell_type": "markdown",
      "metadata": {
        "id": "view-in-github",
        "colab_type": "text"
      },
      "source": [
        "<a href=\"https://colab.research.google.com/github/dbtjr1103/Basic_practice/blob/main/%ED%94%84%EB%A1%9C%EA%B7%B8%EB%9E%98%EB%A8%B8%EC%8A%A4%EC%97%B0%EC%8A%B5_230113.ipynb\" target=\"_parent\"><img src=\"https://colab.research.google.com/assets/colab-badge.svg\" alt=\"Open In Colab\"/></a>"
      ]
    },
    {
      "cell_type": "code",
      "execution_count": 24,
      "metadata": {
        "id": "OhvZZ17MdRH6"
      },
      "outputs": [],
      "source": [
        "# 문자열 계산하기\n",
        "def solution(my_string):\n",
        "    tmp = my_string.split(' + ')\n",
        "    plus, minus = [], []\n",
        "    for i in tmp:\n",
        "        if i.isdigit():\n",
        "            plus.append(int(i))\n",
        "        else:\n",
        "            tmp2 = i.split(' - ')\n",
        "            plus.append(int(tmp2.pop(0)))\n",
        "            for j in tmp2:\n",
        "                minus.append(int(j))\n",
        "    answer = sum(plus) - sum(minus)\n",
        "    return answer"
      ]
    },
    {
      "cell_type": "code",
      "source": [
        "my_string = \"3 + 4 - 5 + 6\"\n",
        "solution(my_string)"
      ],
      "metadata": {
        "colab": {
          "base_uri": "https://localhost:8080/"
        },
        "id": "Wlv96jO3dlJW",
        "outputId": "5b6ed4cf-d3cb-41d0-951b-318487225a03"
      },
      "execution_count": 25,
      "outputs": [
        {
          "output_type": "execute_result",
          "data": {
            "text/plain": [
              "8"
            ]
          },
          "metadata": {},
          "execution_count": 25
        }
      ]
    },
    {
      "cell_type": "code",
      "source": [
        "def solution(my_string):\n",
        "    return sum(int(i) for i in my_string.replace(' - ', ' + -').split(' + '))"
      ],
      "metadata": {
        "id": "am_gbBodeEs5"
      },
      "execution_count": null,
      "outputs": []
    },
    {
      "cell_type": "code",
      "source": [
        "solution=eval"
      ],
      "metadata": {
        "id": "EpH6hy_Dh9r_"
      },
      "execution_count": 26,
      "outputs": []
    },
    {
      "cell_type": "code",
      "source": [
        "# 컨트롤 제트\n",
        "def solution(s):\n",
        "    answer = 0\n",
        "    s = s.split(\" \")\n",
        "    for i in range(len(s)-1):\n",
        "        if s[i].isdigit() and s[i+1].isdigit():\n",
        "            answer += int(s[i])\n",
        "    if s[-1].isdigit():\n",
        "        answer += int(s[-1])\n",
        "\n",
        "    return answer"
      ],
      "metadata": {
        "id": "jtMeY23kiqB4"
      },
      "execution_count": 49,
      "outputs": []
    },
    {
      "cell_type": "code",
      "source": [
        "s = \"1 2 Z 3\"\n",
        "solution(s)"
      ],
      "metadata": {
        "colab": {
          "base_uri": "https://localhost:8080/"
        },
        "id": "I_qmGA1witAt",
        "outputId": "999fc012-3d91-4930-d02c-be3353312a77"
      },
      "execution_count": 50,
      "outputs": [
        {
          "output_type": "execute_result",
          "data": {
            "text/plain": [
              "4"
            ]
          },
          "metadata": {},
          "execution_count": 50
        }
      ]
    },
    {
      "cell_type": "code",
      "source": [],
      "metadata": {
        "id": "VMT-iZ2MjNCH"
      },
      "execution_count": null,
      "outputs": []
    }
  ]
}