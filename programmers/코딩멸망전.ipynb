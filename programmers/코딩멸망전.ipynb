{
  "nbformat": 4,
  "nbformat_minor": 0,
  "metadata": {
    "colab": {
      "provenance": [],
      "authorship_tag": "ABX9TyNNy1amysBeJewWI+s7E3Zn",
      "include_colab_link": true
    },
    "kernelspec": {
      "name": "python3",
      "display_name": "Python 3"
    },
    "language_info": {
      "name": "python"
    }
  },
  "cells": [
    {
      "cell_type": "markdown",
      "metadata": {
        "id": "view-in-github",
        "colab_type": "text"
      },
      "source": [
        "<a href=\"https://colab.research.google.com/github/dbtjr1103/Basic_practice/blob/main/%EC%BD%94%EB%94%A9%EB%A9%B8%EB%A7%9D%EC%A0%84.ipynb\" target=\"_parent\"><img src=\"https://colab.research.google.com/assets/colab-badge.svg\" alt=\"Open In Colab\"/></a>"
      ]
    },
    {
      "cell_type": "markdown",
      "source": [
        "![image.png](\n",
        "    \n",
        ")![image.png](data:image/png;base64,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)"
      ],
      "metadata": {
        "id": "veajCvHaBonw"
      }
    },
    {
      "cell_type": "code",
      "execution_count": null,
      "metadata": {
        "id": "p9GtTByOvJWp"
      },
      "outputs": [],
      "source": [
        "# A로 B 만들기\n"
      ]
    },
    {
      "cell_type": "code",
      "source": [
        "def solution(num_list, n):\n",
        "    answer = []\n",
        "    for i in range(int(len(num_list)/n)):\n",
        "        arr = []\n",
        "        for j in range(n):\n",
        "            arr.append(num_list[j+(i*n)])\n",
        "        answer.append(arr)\n",
        "        print(answer)    \n",
        "        # arr = []\n",
        "    # return answer"
      ],
      "metadata": {
        "id": "iYxjKRxSwJQK"
      },
      "execution_count": 35,
      "outputs": []
    },
    {
      "cell_type": "code",
      "source": [
        "def solution(num_list, n):\n",
        "    return [num_list[ix-n:ix] for ix in range(n, len(num_list)+1, n)]\n"
      ],
      "metadata": {
        "colab": {
          "base_uri": "https://localhost:8080/"
        },
        "id": "pzSq75NhvPsT",
        "outputId": "4096c6b3-a4e7-4f33-a17c-7ddf44702180"
      },
      "execution_count": 36,
      "outputs": [
        {
          "output_type": "stream",
          "name": "stdout",
          "text": [
            "[[1, 2]]\n",
            "[[1, 2], [3, 4]]\n",
            "[[1, 2], [3, 4], [5, 6]]\n",
            "[[1, 2], [3, 4], [5, 6], [7, 8]]\n"
          ]
        }
      ]
    },
    {
      "cell_type": "code",
      "source": [
        "# k의 개수\n",
        "def solution(i, j, k):\n",
        "    answer = 0\n",
        "    for i in range(i,j+1):\n",
        "        tmp = list(str(i))\n",
        "        for j in tmp:\n",
        "            if str(k) in j:\n",
        "                answer+=1\n",
        "    return answer"
      ],
      "metadata": {
        "id": "VNAfMlxw13xk"
      },
      "execution_count": 49,
      "outputs": []
    },
    {
      "cell_type": "code",
      "source": [
        "# 나중에 다시count"
      ],
      "metadata": {
        "id": "ApIi5r0z4Aun"
      },
      "execution_count": null,
      "outputs": []
    },
    {
      "cell_type": "code",
      "source": [
        "solution(1,13,1)"
      ],
      "metadata": {
        "colab": {
          "base_uri": "https://localhost:8080/"
        },
        "id": "KeCDXxYfzIZ1",
        "outputId": "386867c7-1b86-45b5-c3b0-eeac69a34e77"
      },
      "execution_count": 50,
      "outputs": [
        {
          "output_type": "execute_result",
          "data": {
            "text/plain": [
              "6"
            ]
          },
          "metadata": {},
          "execution_count": 50
        }
      ]
    },
    {
      "cell_type": "code",
      "source": [
        "# 가까운 수\n",
        "def solution(array, n):\n",
        "    answer = 100\n",
        "    min = 0\n",
        "    for i in array:\n",
        "        if answer > abs(i-n):\n",
        "            answer = abs(i-n)\n",
        "            min = i\n",
        "        elif answer == abs(i-n):\n",
        "            if min > i:\n",
        "                min = i\n",
        "        print(answer)\n",
        "    return min"
      ],
      "metadata": {
        "id": "5A7CaQhQ2o-p"
      },
      "execution_count": 75,
      "outputs": []
    },
    {
      "cell_type": "code",
      "source": [
        "solution([3, 10, 28],20)"
      ],
      "metadata": {
        "colab": {
          "base_uri": "https://localhost:8080/"
        },
        "id": "CtPpufMl4yPl",
        "outputId": "a6b845fa-523b-44d2-bfd2-de4bdd8c2712"
      },
      "execution_count": 76,
      "outputs": [
        {
          "output_type": "stream",
          "name": "stdout",
          "text": [
            "17\n",
            "10\n",
            "8\n"
          ]
        },
        {
          "output_type": "execute_result",
          "data": {
            "text/plain": [
              "28"
            ]
          },
          "metadata": {},
          "execution_count": 76
        }
      ]
    },
    {
      "cell_type": "code",
      "source": [
        "def solution(array, n):\n",
        "    array.sort(key = lambda x : (abs(x-n), x-n))\n",
        "    answer = array[0]\n",
        "    return answer"
      ],
      "metadata": {
        "id": "oZzHhvvZ44mb"
      },
      "execution_count": null,
      "outputs": []
    },
    {
      "cell_type": "code",
      "source": [
        "# 한 번만 등장한 문자\n",
        "def solution(s):\n",
        "    answer = []\n",
        "    for i in list(s):\n",
        "        if list(s).count(i) == 1:\n",
        "            answer.append(i)\n",
        "    answer = sorted(answer)\n",
        "    return ''.join(answer)"
      ],
      "metadata": {
        "id": "r5zQctnn9zOe"
      },
      "execution_count": 113,
      "outputs": []
    },
    {
      "cell_type": "code",
      "source": [
        "solution('abcdab')"
      ],
      "metadata": {
        "colab": {
          "base_uri": "https://localhost:8080/"
        },
        "id": "cA38ycNE-f9V",
        "outputId": "7ecf903f-18b7-46e4-b18d-63d2bf387d32"
      },
      "execution_count": 114,
      "outputs": [
        {
          "output_type": "stream",
          "name": "stdout",
          "text": [
            "['c', 'd']\n"
          ]
        }
      ]
    },
    {
      "cell_type": "code",
      "source": [
        "def solution(s):\n",
        "    answer = ''\n",
        "    for c in 'abcdefghijklmnopqrstuvwxyz':\n",
        "        if s.count(c) == 1:\n",
        "            answer += c\n",
        "    return answer"
      ],
      "metadata": {
        "id": "53Zk8gcR-h5s"
      },
      "execution_count": null,
      "outputs": []
    },
    {
      "cell_type": "code",
      "source": [
        "# 이진수 더하기\n",
        "def solution(bin1, bin2):\n",
        "    answer = int(bin1,2) + int(bin2,2)    \n",
        "    return bin(answer)[2:]"
      ],
      "metadata": {
        "id": "l7D0V0gmB3l_"
      },
      "execution_count": 18,
      "outputs": []
    },
    {
      "cell_type": "code",
      "source": [
        "solution(\"10\",\"11\")"
      ],
      "metadata": {
        "colab": {
          "base_uri": "https://localhost:8080/",
          "height": 35
        },
        "id": "UmBtuoHVDtR9",
        "outputId": "602e8e9b-1409-42a2-fe93-59c2e7c31c31"
      },
      "execution_count": 19,
      "outputs": [
        {
          "output_type": "execute_result",
          "data": {
            "text/plain": [
              "'101'"
            ],
            "application/vnd.google.colaboratory.intrinsic+json": {
              "type": "string"
            }
          },
          "metadata": {},
          "execution_count": 19
        }
      ]
    },
    {
      "cell_type": "code",
      "source": [
        "# 7의 개수\n",
        "def solution(array):\n",
        "    answer = 0\n",
        "    for i in array:\n",
        "        answer += str(i).count(\"7\")\n",
        "    return answer"
      ],
      "metadata": {
        "id": "DHs-CniQEJYs"
      },
      "execution_count": 23,
      "outputs": []
    },
    {
      "cell_type": "code",
      "source": [
        "solution(\"[7, 77, 17]\")"
      ],
      "metadata": {
        "colab": {
          "base_uri": "https://localhost:8080/"
        },
        "id": "t9eE5R6bFQ9W",
        "outputId": "bdd7b8a3-7eff-4afd-bfae-4e081a205bab"
      },
      "execution_count": 24,
      "outputs": [
        {
          "output_type": "execute_result",
          "data": {
            "text/plain": [
              "4"
            ]
          },
          "metadata": {},
          "execution_count": 24
        }
      ]
    },
    {
      "cell_type": "code",
      "source": [
        "def solution(array):\n",
        "    return str(array).count('7')"
      ],
      "metadata": {
        "id": "ImCDdmIcGjzP"
      },
      "execution_count": null,
      "outputs": []
    },
    {
      "cell_type": "code",
      "source": [
        "i = \"77\"\n",
        "i.count(\"7\")"
      ],
      "metadata": {
        "colab": {
          "base_uri": "https://localhost:8080/"
        },
        "id": "omzI5XRQEKWr",
        "outputId": "5c9f77f7-0c84-4ca4-af3c-aec7b5b73e1f"
      },
      "execution_count": 20,
      "outputs": [
        {
          "output_type": "execute_result",
          "data": {
            "text/plain": [
              "2"
            ]
          },
          "metadata": {},
          "execution_count": 20
        }
      ]
    },
    {
      "cell_type": "code",
      "source": [
        "array = [7, 77, 17]\n",
        "str(array).count(\"7\")"
      ],
      "metadata": {
        "colab": {
          "base_uri": "https://localhost:8080/"
        },
        "id": "_rNk1UEQGO1i",
        "outputId": "0a20f538-85db-459a-884d-8249048699fb"
      },
      "execution_count": 26,
      "outputs": [
        {
          "output_type": "execute_result",
          "data": {
            "text/plain": [
              "4"
            ]
          },
          "metadata": {},
          "execution_count": 26
        }
      ]
    },
    {
      "cell_type": "code",
      "source": [
        "# 숨어있는 숫자의 덧셈(2)\n",
        "import re\n",
        "def solution(my_string):\n",
        "    answer = re.findall('[0-9]+', my_string)\n",
        "    return sum(map(int,answer))"
      ],
      "metadata": {
        "id": "0Z6Ria34Gqjs"
      },
      "execution_count": 46,
      "outputs": []
    },
    {
      "cell_type": "code",
      "source": [
        "solution(\"aAb1B2cC34oOp\")"
      ],
      "metadata": {
        "colab": {
          "base_uri": "https://localhost:8080/"
        },
        "id": "F10WKVEQG1fO",
        "outputId": "5871924f-6ba8-4544-8e9a-edc539e63a1e"
      },
      "execution_count": 47,
      "outputs": [
        {
          "output_type": "execute_result",
          "data": {
            "text/plain": [
              "37"
            ]
          },
          "metadata": {},
          "execution_count": 47
        }
      ]
    },
    {
      "cell_type": "code",
      "source": [
        "def solution(my_string):\n",
        "    s = ''.join(i if i.isdigit() else ' ' for i in my_string)\n",
        "    return sum(int(i) for i in s.split())"
      ],
      "metadata": {
        "id": "VgQSTZhxIGPb"
      },
      "execution_count": 49,
      "outputs": []
    },
    {
      "cell_type": "code",
      "source": [
        "# 공던지기\n",
        "def solution(numbers, k):\n",
        "    answer = 0\n",
        "    if len(numbers) % 2 == 0:\n",
        "        answer = numbers[0::2]\n",
        "    else:\n",
        "        answer = numbers[0::2] + numbers[1::2]\n",
        "    return answer[k%len(answer)-1]"
      ],
      "metadata": {
        "id": "Y4jrv9k_JeCM"
      },
      "execution_count": 76,
      "outputs": []
    },
    {
      "cell_type": "code",
      "source": [
        "solution([1, 2, 3, 4,5],10)"
      ],
      "metadata": {
        "colab": {
          "base_uri": "https://localhost:8080/"
        },
        "id": "yWfquVmFJuN2",
        "outputId": "17c79156-4455-43a1-cfb6-c8ac8cb3af50"
      },
      "execution_count": 77,
      "outputs": [
        {
          "output_type": "execute_result",
          "data": {
            "text/plain": [
              "4"
            ]
          },
          "metadata": {},
          "execution_count": 77
        }
      ]
    },
    {
      "cell_type": "code",
      "source": [
        "def solution(numbers, k):\n",
        "    return numbers[2 * (k - 1) % len(numbers)]"
      ],
      "metadata": {
        "id": "7TqjTK1aJxHb"
      },
      "execution_count": null,
      "outputs": []
    },
    {
      "cell_type": "code",
      "source": [
        "# 소인수 분해\n",
        "def solution(n):\n",
        "    divisor = []\n",
        "    answer = []\n",
        "\n",
        "    i = 2\n",
        "    while i<=n:\n",
        "        if n%i == 0:\n",
        "            divisor.append(i)\n",
        "            n = n//i\n",
        "        else:\n",
        "            i+= 1\n",
        "    for i in divisor:\n",
        "        if i not in answer:\n",
        "            answer.append(i)\n",
        "    return answer"
      ],
      "metadata": {
        "id": "Z-6QXIFyOtUc"
      },
      "execution_count": 117,
      "outputs": []
    },
    {
      "cell_type": "code",
      "source": [
        "solution(420)"
      ],
      "metadata": {
        "colab": {
          "base_uri": "https://localhost:8080/"
        },
        "id": "hIP8z_FLQMpK",
        "outputId": "1591785c-f462-4cf9-d96d-9df636da596a"
      },
      "execution_count": 118,
      "outputs": [
        {
          "output_type": "execute_result",
          "data": {
            "text/plain": [
              "[2, 3, 5, 7]"
            ]
          },
          "metadata": {},
          "execution_count": 118
        }
      ]
    },
    {
      "cell_type": "code",
      "source": [
        "def solution(n):\n",
        "    answer = []\n",
        "    d = 2\n",
        "    while d <= n:\n",
        "        if n % d == 0:\n",
        "            n /= d\n",
        "            if d not in answer:\n",
        "                answer.append(d)\n",
        "        else:\n",
        "            d += 1\n",
        "    return answer"
      ],
      "metadata": {
        "id": "35VJH6j-QO18"
      },
      "execution_count": null,
      "outputs": []
    },
    {
      "cell_type": "code",
      "source": [
        "# 잘라서 배열로 저장하기\n",
        "def solution(my_str, n):\n",
        "    answer = \n",
        "    return answer"
      ],
      "metadata": {
        "id": "nTYu3XzSbMdR"
      },
      "execution_count": null,
      "outputs": []
    },
    {
      "cell_type": "code",
      "source": [
        "solution(\"abc1Addfggg4556b\",6)"
      ],
      "metadata": {
        "id": "8ii29xOs0Lic"
      },
      "execution_count": null,
      "outputs": []
    }
  ]
}